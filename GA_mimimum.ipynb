{
 "cells": [
  {
   "cell_type": "code",
   "execution_count": 22,
   "id": "d2cbbfd0",
   "metadata": {},
   "outputs": [],
   "source": [
    "import numpy as np"
   ]
  },
  {
   "cell_type": "code",
   "execution_count": 23,
   "id": "bb05c5f6",
   "metadata": {},
   "outputs": [],
   "source": [
    "def fitness_function(x):\n",
    "    return (x + 2)**2 "
   ]
  },
  {
   "cell_type": "code",
   "execution_count": 24,
   "id": "ef0f5f5d",
   "metadata": {},
   "outputs": [],
   "source": [
    "population_size = 200\n",
    "num_generations = 200\n",
    "mutation_rate = 0.03\n",
    "crossover_rate = 0.7"
   ]
  },
  {
   "cell_type": "code",
   "execution_count": 25,
   "id": "2f9eb5e7",
   "metadata": {},
   "outputs": [],
   "source": [
    "def initialize_population(population_size):\n",
    "    return np.random.uniform(low=-10, high=10, size=(population_size,))"
   ]
  },
  {
   "cell_type": "code",
   "execution_count": 26,
   "id": "8de1caba",
   "metadata": {},
   "outputs": [],
   "source": [
    "def evaluate_population(population):\n",
    "    return np.array([fitness_function(individual) for individual in population])"
   ]
  },
  {
   "cell_type": "code",
   "execution_count": 27,
   "id": "493fbcc5",
   "metadata": {},
   "outputs": [],
   "source": [
    "def select_parents(population, fitness_scores):\n",
    "    tournament_size = 5\n",
    "    selected_parents = []\n",
    "    for _ in range(len(population)):\n",
    "        tournament_indices = np.random.choice(len(population), tournament_size)\n",
    "        tournament_fitness = fitness_scores[tournament_indices]\n",
    "        selected_parents.append(population[tournament_indices[np.argmin(tournament_fitness)]])\n",
    "    return np.array(selected_parents)"
   ]
  },
  {
   "cell_type": "code",
   "execution_count": 28,
   "id": "06b11ccd",
   "metadata": {},
   "outputs": [],
   "source": [
    "def crossover(parents):\n",
    "    children = []\n",
    "    for i in range(0, len(parents), 2):\n",
    "        parent1, parent2 = parents[i], parents[i+1]\n",
    "        if isinstance(parent1, np.ndarray):  # Check if parent is an array\n",
    "            crossover_point = np.random.randint(1, len(parent1))  # Random crossover point\n",
    "            child1 = np.concatenate((parent1[:crossover_point], parent2[crossover_point:]))\n",
    "            child2 = np.concatenate((parent2[:crossover_point], parent1[crossover_point:]))\n",
    "            children.extend([child1, child2])\n",
    "        else:\n",
    "            crossover_point = (parent1 + parent2) / 2  # Crossover at the midpoint for floats\n",
    "            children.extend([parent1, parent2])\n",
    "    return np.array(children)"
   ]
  },
  {
   "cell_type": "code",
   "execution_count": 29,
   "id": "c84a8f28",
   "metadata": {},
   "outputs": [],
   "source": [
    "def mutate(children):\n",
    "    for i in range(len(children)):\n",
    "        if np.random.rand() < mutation_rate:\n",
    "            children[i] += np.random.normal(scale=0.1)\n",
    "    return children"
   ]
  },
  {
   "cell_type": "code",
   "execution_count": 30,
   "id": "4aacfed9",
   "metadata": {},
   "outputs": [],
   "source": [
    "def genetic_algorithm():\n",
    "    population = initialize_population(population_size)\n",
    "    for generation in range(num_generations):\n",
    "        fitness_scores = evaluate_population(population)\n",
    "        parents = select_parents(population, fitness_scores)\n",
    "        children = crossover(parents)\n",
    "        children = mutate(children)\n",
    "        population = children\n",
    "    best_individual_index = np.argmin(fitness_scores)\n",
    "    return population[best_individual_index]"
   ]
  },
  {
   "cell_type": "code",
   "execution_count": 31,
   "id": "66d2e805",
   "metadata": {},
   "outputs": [
    {
     "name": "stdout",
     "output_type": "stream",
     "text": [
      "Minimum: -2.000152152608196\n",
      "Fitness val: 2.3733182225341767e-06\n"
     ]
    }
   ],
   "source": [
    "endresult = genetic_algorithm()\n",
    "print(\"Minimum:\", endresult)\n",
    "print(\"Fitness val:\", fitness_function(result))\n"
   ]
  },
  {
   "cell_type": "code",
   "execution_count": null,
   "id": "577a0bd9",
   "metadata": {},
   "outputs": [],
   "source": []
  }
 ],
 "metadata": {
  "kernelspec": {
   "display_name": "Python 3 (ipykernel)",
   "language": "python",
   "name": "python3"
  },
  "language_info": {
   "codemirror_mode": {
    "name": "ipython",
    "version": 3
   },
   "file_extension": ".py",
   "mimetype": "text/x-python",
   "name": "python",
   "nbconvert_exporter": "python",
   "pygments_lexer": "ipython3",
   "version": "3.11.3"
  }
 },
 "nbformat": 4,
 "nbformat_minor": 5
}
