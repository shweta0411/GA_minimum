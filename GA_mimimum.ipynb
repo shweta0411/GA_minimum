{
 "cells": [
  {
   "cell_type": "code",
   "execution_count": 32,
   "id": "2942a660",
   "metadata": {},
   "outputs": [],
   "source": [
    "import numpy as np"
   ]
  },
  {
   "cell_type": "code",
   "execution_count": 33,
   "id": "80c3f579",
   "metadata": {},
   "outputs": [],
   "source": [
    "def fitness_function(x):\n",
    "    return (x + 2)**2 "
   ]
  },
  {
   "cell_type": "code",
   "execution_count": 34,
   "id": "3c82d61f",
   "metadata": {},
   "outputs": [],
   "source": [
    "population_size = 200\n",
    "num_generations = 200\n",
    "mutation_rate = 0.03\n",
    "crossover_rate = 0.7"
   ]
  },
  {
   "cell_type": "code",
   "execution_count": 35,
   "id": "ecbcb66d",
   "metadata": {},
   "outputs": [],
   "source": [
    "def initialize_population(population_size):\n",
    "    return np.random.uniform(low=-10, high=10, size=(population_size,))"
   ]
  },
  {
   "cell_type": "code",
   "execution_count": 36,
   "id": "94893ffe",
   "metadata": {},
   "outputs": [],
   "source": [
    "def evaluate_population(population):\n",
    "    return np.array([fitness_function(individual) for individual in population])"
   ]
  },
  {
   "cell_type": "code",
   "execution_count": 37,
   "id": "ecaaf9eb",
   "metadata": {},
   "outputs": [],
   "source": [
    "def select_parents(population, fitness_scores):\n",
    "    tournament_size = 5\n",
    "    selected_parents = []\n",
    "    for _ in range(len(population)):\n",
    "        tournament_indices = np.random.choice(len(population), tournament_size)\n",
    "        tournament_fitness = fitness_scores[tournament_indices]\n",
    "        selected_parents.append(population[tournament_indices[np.argmin(tournament_fitness)]])\n",
    "    return np.array(selected_parents)"
   ]
  },
  {
   "cell_type": "code",
   "execution_count": 38,
   "id": "b4d307fa",
   "metadata": {},
   "outputs": [],
   "source": [
    "def crossover(parents):\n",
    "    children = []\n",
    "    for i in range(0, len(parents), 2):\n",
    "        parent1, parent2 = parents[i], parents[i+1]\n",
    "        if isinstance(parent1, np.ndarray):  \n",
    "            crossover_point = np.random.randint(1, len(parent1)) \n",
    "            child1 = np.concatenate((parent1[:crossover_point], parent2[crossover_point:]))\n",
    "            child2 = np.concatenate((parent2[:crossover_point], parent1[crossover_point:]))\n",
    "            children.extend([child1, child2])\n",
    "        else:\n",
    "            crossover_point = (parent1 + parent2) / 2  \n",
    "            children.extend([parent1, parent2])\n",
    "    return np.array(children)"
   ]
  },
  {
   "cell_type": "code",
   "execution_count": 39,
   "id": "c97d1715",
   "metadata": {},
   "outputs": [],
   "source": [
    "def mutate(children):\n",
    "    for i in range(len(children)):\n",
    "        if np.random.rand() < mutation_rate:\n",
    "            children[i] += np.random.normal(scale=0.1)\n",
    "    return children"
   ]
  },
  {
   "cell_type": "code",
   "execution_count": 40,
   "id": "cfc7869f",
   "metadata": {},
   "outputs": [],
   "source": [
    "def genetic_algorithm():\n",
    "    population = initialize_population(population_size)\n",
    "    for generation in range(num_generations):\n",
    "        fitness_scores = evaluate_population(population)\n",
    "        parents = select_parents(population, fitness_scores)\n",
    "        children = crossover(parents)\n",
    "        children = mutate(children)\n",
    "        population = children\n",
    "    best_individual_index = np.argmin(fitness_scores)\n",
    "    return population[best_individual_index]"
   ]
  },
  {
   "cell_type": "code",
   "execution_count": 41,
   "id": "a2c3fadb",
   "metadata": {},
   "outputs": [
    {
     "name": "stdout",
     "output_type": "stream",
     "text": [
      "Minimum: -1.9999480950572135\n",
      "Fitness val: 2.3733182225341767e-06\n"
     ]
    }
   ],
   "source": [
    "endresult = genetic_algorithm()\n",
    "print(\"Minimum:\", endresult)\n",
    "print(\"Fitness val:\", fitness_function(result))\n"
   ]
  },
  {
   "cell_type": "code",
   "execution_count": null,
   "id": "420ff266",
   "metadata": {},
   "outputs": [],
   "source": []
  }
 ],
 "metadata": {
  "kernelspec": {
   "display_name": "Python 3 (ipykernel)",
   "language": "python",
   "name": "python3"
  },
  "language_info": {
   "codemirror_mode": {
    "name": "ipython",
    "version": 3
   },
   "file_extension": ".py",
   "mimetype": "text/x-python",
   "name": "python",
   "nbconvert_exporter": "python",
   "pygments_lexer": "ipython3",
   "version": "3.11.3"
  }
 },
 "nbformat": 4,
 "nbformat_minor": 5
}
